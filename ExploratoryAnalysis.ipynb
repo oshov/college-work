{
  "nbformat": 4,
  "nbformat_minor": 0,
  "metadata": {
    "colab": {
      "provenance": [],
      "authorship_tag": "ABX9TyNGUr80XkQrcmTJsW5+iFgw",
      "include_colab_link": true
    },
    "kernelspec": {
      "name": "python3",
      "display_name": "Python 3"
    },
    "language_info": {
      "name": "python"
    }
  },
  "cells": [
    {
      "cell_type": "markdown",
      "metadata": {
        "id": "view-in-github",
        "colab_type": "text"
      },
      "source": [
        "<a href=\"https://colab.research.google.com/github/oshov/college-work/blob/main/ExploratoryAnalysis.ipynb\" target=\"_parent\"><img src=\"https://colab.research.google.com/assets/colab-badge.svg\" alt=\"Open In Colab\"/></a>"
      ]
    },
    {
      "cell_type": "code",
      "execution_count": 49,
      "metadata": {
        "colab": {
          "base_uri": "https://localhost:8080/",
          "height": 440
        },
        "id": "iwsYmRwg_hSN",
        "outputId": "92f660ea-22f4-4f48-e390-13966939f59e"
      },
      "outputs": [
        {
          "output_type": "stream",
          "name": "stdout",
          "text": [
            "rows and columns = (150, 5) \n",
            "\n",
            "   sepal.length  sepal.width  petal.length  petal.width variety\n",
            "0           5.1          3.5           1.4          0.2  Setosa\n",
            "1           4.9          3.0           1.4          0.2  Setosa\n",
            "2           4.7          3.2           1.3          0.2  Setosa\n",
            "3           4.6          3.1           1.5          0.2  Setosa\n",
            "4           5.0          3.6           1.4          0.2  Setosa\n"
          ]
        },
        {
          "output_type": "execute_result",
          "data": {
            "text/plain": [
              "Text(0.5, 0, 'Sepal length')"
            ]
          },
          "metadata": {},
          "execution_count": 49
        },
        {
          "output_type": "display_data",
          "data": {
            "text/plain": [
              "<Figure size 432x288 with 1 Axes>"
            ],
            "image/png": "[encoded data removed]"
          },
          "metadata": {
            "needs_background": "light"
          }
        }
      ],
      "source": [
        "import numpy as np\n",
        "import pandas as pd\n",
        "import matplotlib.pyplot as plt\n",
        "import seaborn as sns\n",
        "\n",
        "df = pd.read_csv('iris.csv')\n",
        "head = df.head()\n",
        "shape = df.shape\n",
        "\n",
        "print(\"rows and columns =\", shape,\"\\n\")\n",
        "print(head)\n",
        "\n",
        "df_versicolor = df.loc[df['variety'] == 'Versicolor']\n",
        "df_setosa = df.loc[df['variety'] == 'Setosa']\n",
        "df_virginica = df.loc[df['variety'] == 'Virginica']\n",
        "\n",
        "plt.plot(df_setosa['sepal.length'], np.zeros_like(df_setosa['sepal.length']))\n",
        "plt.plot(df_virginica['sepal.length'], np.zeros_like(df_virginica['sepal.length']))\n",
        "plt.plot(df_versicolor['sepal.length'], np.zeros_like(df_versicolor['sepal.length']))\n",
        "plt.xlabel('Sepal length')\n",
        "\n",
        "\n"
      ]
    },
    {
      "cell_type": "code",
      "source": [],
      "metadata": {
        "id": "Ub6QgjewFPv5"
      },
      "execution_count": null,
      "outputs": []
    }
  ]
}